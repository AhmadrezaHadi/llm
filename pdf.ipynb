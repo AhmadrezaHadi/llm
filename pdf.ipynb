{
 "cells": [
  {
   "cell_type": "code",
   "execution_count": 9,
   "id": "60f6f7bb-fa88-487e-8723-076df4fa40cf",
   "metadata": {
    "tags": []
   },
   "outputs": [
    {
     "name": "stderr",
     "output_type": "stream",
     "text": [
      "Cannot set gray non-stroke color because /'p6' is an invalid float value\n",
      "Cannot set gray non-stroke color because /'p7' is an invalid float value\n",
      "Cannot set gray non-stroke color because /'p8' is an invalid float value\n",
      "Cannot set gray non-stroke color because /'p9' is an invalid float value\n",
      "Cannot set gray non-stroke color because /'p10' is an invalid float value\n",
      "Cannot set gray non-stroke color because /'p11' is an invalid float value\n",
      "Cannot set gray non-stroke color because /'p12' is an invalid float value\n",
      "Cannot set gray non-stroke color because /'p13' is an invalid float value\n",
      "Cannot set gray non-stroke color because /'p14' is an invalid float value\n",
      "Cannot set gray non-stroke color because /'p15' is an invalid float value\n",
      "Cannot set gray non-stroke color because /'p17' is an invalid float value\n",
      "Cannot set gray non-stroke color because /'p6' is an invalid float value\n",
      "Cannot set gray non-stroke color because /'p7' is an invalid float value\n",
      "Cannot set gray non-stroke color because /'p8' is an invalid float value\n",
      "Cannot set gray non-stroke color because /'p9' is an invalid float value\n",
      "Cannot set gray non-stroke color because /'p10' is an invalid float value\n",
      "Cannot set gray non-stroke color because /'p12' is an invalid float value\n"
     ]
    },
    {
     "name": "stdout",
     "output_type": "stream",
     "text": [
      "Extracted text sample: Dive into Deep Learning\n",
      "\n",
      "ASTON ZHANG, ZACHARY C. LIPTON, MU LI, AND ALEXANDER J.\n",
      "SMOLA\n",
      "\n",
      "\f",
      "\f",
      "Contents\n",
      "\n",
      "Preface\n",
      "\n",
      "Installation\n",
      "\n",
      "Notation\n",
      "\n",
      "1 Introduction\n",
      "\n",
      "1.1 A Motivating Example\n",
      "1.2 Key Components\n",
      "1.3 Kinds of Machine Learning Problems\n",
      "1.4 Roots\n",
      "1.5\n",
      "1.6\n",
      "1.7\n",
      "1.8\n",
      "1.9\n",
      "\n",
      "The Road to Deep Learning\n",
      "Success Stories\n",
      "The Essence of Deep Learning\n",
      "Summary\n",
      "Exercises\n",
      "\n",
      "2 Preliminaries\n",
      "\n",
      "2.1 Data Manipulation\n",
      "\n",
      "2.1.1\n",
      "2.1.2\n",
      "2.1.3\n",
      "2.1.4\n",
      "2.1.5\n",
      "2.1.6\n",
      "2.1.7\n",
      "2.1.8\n",
      "\n",
      "Getting Started\n",
      "Indexing and Slicing\n",
      "Operations\n",
      "Broadcasti\n"
     ]
    }
   ],
   "source": [
    "from pdfminer.high_level import extract_text\n",
    "\n",
    "pdf_path = \"data/pdf/d2l-en.pdf\"\n",
    "\n",
    "text = extract_text(pdf_path)\n",
    "\n",
    "print(\"Extracted text sample:\", text[:500])"
   ]
  },
  {
   "cell_type": "code",
   "execution_count": 10,
   "id": "2e53ad69-fa71-481f-afd4-b54c47724f9b",
   "metadata": {
    "tags": []
   },
   "outputs": [
    {
     "name": "stdout",
     "output_type": "stream",
     "text": [
      "Prepared 1583 chunks for fine-tuning.\n"
     ]
    }
   ],
   "source": [
    "# Simple chunking\n",
    "max_chunk_size = 1500  # Keep <2048, but leave room for special tokens\n",
    "chunks = [text[i:i+max_chunk_size] for i in range(0, len(text), max_chunk_size)]\n",
    "\n",
    "# Optional: Remove very small chunks\n",
    "chunks = [chunk for chunk in chunks if len(chunk) > 200]\n",
    "\n",
    "print(f\"Prepared {len(chunks)} chunks for fine-tuning.\")"
   ]
  },
  {
   "cell_type": "code",
   "execution_count": 12,
   "id": "1c1592a4-d99c-41a1-967e-274773b3b65c",
   "metadata": {
    "tags": []
   },
   "outputs": [],
   "source": [
    "from datasets import Dataset"
   ]
  },
  {
   "cell_type": "code",
   "execution_count": 1,
   "id": "b0957aac-0863-434b-8833-9cdbbd05b33d",
   "metadata": {},
   "outputs": [],
   "source": [
    "import torch"
   ]
  },
  {
   "cell_type": "code",
   "execution_count": 2,
   "id": "78722b18-c9fb-4293-8ed5-1f4c0c91ca7f",
   "metadata": {
    "tags": []
   },
   "outputs": [
    {
     "data": {
      "text/plain": [
       "True"
      ]
     },
     "execution_count": 2,
     "metadata": {},
     "output_type": "execute_result"
    }
   ],
   "source": [
    "torch.cuda.is_available()"
   ]
  },
  {
   "cell_type": "code",
   "execution_count": null,
   "id": "abc3b8eb-7a03-4d6d-b0f4-0bc0ad1839f8",
   "metadata": {},
   "outputs": [],
   "source": [
    ","
   ]
  }
 ],
 "metadata": {
  "kernelspec": {
   "display_name": "[Conda VE] .conda-fai",
   "language": "python",
   "name": "conda-env-.conda-fai-py"
  },
  "language_info": {
   "codemirror_mode": {
    "name": "ipython",
    "version": 3
   },
   "file_extension": ".py",
   "mimetype": "text/x-python",
   "name": "python",
   "nbconvert_exporter": "python",
   "pygments_lexer": "ipython3",
   "version": "3.10.17"
  }
 },
 "nbformat": 4,
 "nbformat_minor": 5
}
